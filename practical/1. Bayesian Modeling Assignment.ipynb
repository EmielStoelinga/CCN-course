{
 "cells": [
  {
   "cell_type": "markdown",
   "metadata": {
    "slideshow": {
     "slide_type": "-"
    }
   },
   "source": [
    "In this practical assignment you will learn how to work with Bayesian models. This assignment consists of two parts. In the first part you will implement the beta-binomial model discussed in class. In the second part you will learn to work with a Python module called PyMC which implements various probabilistic inference algorithms.\n",
    "\n",
    "Your code will be evaluated on clarity, conciseness and efficiency. Document your code. The resulting notebook including the required outputs should be converted to pdf and uploaded to Blackboard. Comments can be added in the notebook using markdown cells. Note that for code development you may want to use the PyCharm IDE, which facilitates debugging."
   ]
  },
  {
   "cell_type": "markdown",
   "metadata": {},
   "source": [
    "### Assignment 1\n",
    "\n",
    "Study the lecture slides and implement the binomial model. Write Python functions which compute the prior, likelihood and posterior distribution for θ. The functions are evaluated at m points in the range [0,1]. The prior takes parameters α and β. The likelihood takes parameters k and n. The posterior takes parameters k, n, α and β. Plot the prior, likelihood and posterior for θ given k = 20, n = 40, α = 2, β = 10."
   ]
  },
  {
   "cell_type": "code",
   "execution_count": 27,
   "metadata": {
    "collapsed": true
   },
   "outputs": [],
   "source": [
    "# Start your assignment here"
   ]
  },
  {
   "cell_type": "markdown",
   "metadata": {},
   "source": [
    "### Assignment 2\n",
    "\n",
    "In this assignment you will get acquainted with pyMC. The module documentation can be found here:\n",
    "\n",
    "https://pymc-devs.github.io/pymc/\n",
    "\n",
    "We will work through part of the following tutorial:\n",
    "\n",
    "https://peerj.com/articles/cs-55/\n",
    "\n",
    "Implement the tutorial <i>A Motivating Example: Linear Regression</I>. At the end of the tutorial provide a summary for all variables rather than only for alpha. This can be done using summary(trace). Make sure you understand what the summary tells you."
   ]
  },
  {
   "cell_type": "code",
   "execution_count": 28,
   "metadata": {
    "collapsed": true
   },
   "outputs": [],
   "source": [
    "# Start your assignment here"
   ]
  }
 ],
 "metadata": {
  "celltoolbar": "Raw Cell Format",
  "kernelspec": {
   "display_name": "Python 2",
   "language": "python",
   "name": "python2"
  },
  "language_info": {
   "codemirror_mode": {
    "name": "ipython",
    "version": 2
   },
   "file_extension": ".py",
   "mimetype": "text/x-python",
   "name": "python",
   "nbconvert_exporter": "python",
   "pygments_lexer": "ipython2",
   "version": "2.7.11"
  }
 },
 "nbformat": 4,
 "nbformat_minor": 0
}
